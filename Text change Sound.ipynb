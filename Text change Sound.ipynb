{
 "cells": [
  {
   "cell_type": "markdown",
   "id": "42ee37b5",
   "metadata": {},
   "source": [
    "**설치파일**\n",
    "1. pip install gtts. \n",
    "2. pip install playsound 1.2.2"
   ]
  },
  {
   "cell_type": "code",
   "execution_count": 28,
   "id": "d5884d7f",
   "metadata": {},
   "outputs": [],
   "source": [
    "from gtts import gTTS\n",
    "from playsound import playsound\n",
    "text = \"Hello. I am Python\"\n",
    "\n",
    "tts = gTTS(text = text, lang = \"en\")\n",
    "tts.save(\"Hello.mp3\")\n",
    "\n",
    "playsound(\"Hello.mp3\")"
   ]
  },
  {
   "cell_type": "code",
   "execution_count": 19,
   "id": "426b01f1",
   "metadata": {
    "scrolled": true
   },
   "outputs": [
    {
     "data": {
      "text/plain": [
       "'/Users/nightbloom/PYTHON'"
      ]
     },
     "execution_count": 19,
     "metadata": {},
     "output_type": "execute_result"
    }
   ],
   "source": [
    "os.getcwd()"
   ]
  },
  {
   "cell_type": "code",
   "execution_count": 30,
   "id": "9982ea3f",
   "metadata": {},
   "outputs": [],
   "source": [
    "os.chdir('/Users/nightbloom/PYTHON')\n",
    "# 내가 불러오고 싶은 텍스트 파일이 있는 경로를 확인\n",
    "\n",
    "Open_AI = \"My Text\"\n",
    "# 내가 불러오고 싶은 텍스트 파일을 변수로 만들어 담았냈다. \n",
    "\n",
    "with open(Open_AI) as A :\n",
    "    # 텍스트 파일을 담아낸 변수의 이름을 A로 지정\n",
    "    File_read = A.read()\n",
    "    # A의 변수를 읽어오는 변수를 만들었다.\n",
    "    \n",
    "tts = gTTS(text=File_read, lang=\"en\")\n",
    "tts.save(\"Open AI.mp3\")"
   ]
  }
 ],
 "metadata": {
  "kernelspec": {
   "display_name": "Python 3 (ipykernel)",
   "language": "python",
   "name": "python3"
  },
  "language_info": {
   "codemirror_mode": {
    "name": "ipython",
    "version": 3
   },
   "file_extension": ".py",
   "mimetype": "text/x-python",
   "name": "python",
   "nbconvert_exporter": "python",
   "pygments_lexer": "ipython3",
   "version": "3.9.13"
  }
 },
 "nbformat": 4,
 "nbformat_minor": 5
}
