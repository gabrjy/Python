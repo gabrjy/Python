{
 "cells": [
  {
   "cell_type": "markdown",
   "id": "e5d97e02",
   "metadata": {},
   "source": [
    "## Python sentence\n",
    "\n",
    "https://wikidocs.net/7021"
   ]
  },
  {
   "cell_type": "code",
   "execution_count": 1,
   "id": "09b4b1f2",
   "metadata": {},
   "outputs": [
    {
     "name": "stdout",
     "output_type": "stream",
     "text": [
      "Hello python\n"
     ]
    }
   ],
   "source": [
    "#.01\n",
    "\n",
    "print(\"Hello python\")"
   ]
  },
  {
   "cell_type": "code",
   "execution_count": 4,
   "id": "4aeab25e",
   "metadata": {},
   "outputs": [
    {
     "name": "stdout",
     "output_type": "stream",
     "text": [
      "Mary's cosmetics\n"
     ]
    }
   ],
   "source": [
    "#.02\n",
    "\n",
    "print(\"Mary's cosmetics\")"
   ]
  },
  {
   "cell_type": "code",
   "execution_count": 5,
   "id": "4c44265f",
   "metadata": {},
   "outputs": [
    {
     "name": "stdout",
     "output_type": "stream",
     "text": [
      "신씨가 소리질렀다.\"도둑이야!\"\n"
     ]
    }
   ],
   "source": [
    "#.03\n",
    "\n",
    "print('신씨가 소리질렀다.\"도둑이야!\"')"
   ]
  },
  {
   "cell_type": "code",
   "execution_count": 7,
   "id": "ca978fba",
   "metadata": {},
   "outputs": [
    {
     "name": "stdout",
     "output_type": "stream",
     "text": [
      "\"C:\\windows\"\n"
     ]
    }
   ],
   "source": [
    "#.04\n",
    "\n",
    "print('\"C:\\windows\"')"
   ]
  },
  {
   "cell_type": "code",
   "execution_count": 15,
   "id": "6316b370",
   "metadata": {},
   "outputs": [
    {
     "name": "stdout",
     "output_type": "stream",
     "text": [
      "Hello.\n",
      "What's your\t\tname.\n"
     ]
    }
   ],
   "source": [
    "#.05\n",
    "\n",
    "print(\"Hello.\\nWhat's your\\t\\tname.\")\n",
    "\n",
    "#\\n - enter \n",
    "#\\t - space"
   ]
  },
  {
   "cell_type": "code",
   "execution_count": 16,
   "id": "0277d69a",
   "metadata": {},
   "outputs": [
    {
     "name": "stdout",
     "output_type": "stream",
     "text": [
      "Monday Tuesday\n"
     ]
    }
   ],
   "source": [
    "#.06\n",
    "\n",
    "print(\"Monday\", \"Tuesday\")"
   ]
  },
  {
   "cell_type": "code",
   "execution_count": 19,
   "id": "b2392552",
   "metadata": {},
   "outputs": [
    {
     "name": "stdout",
     "output_type": "stream",
     "text": [
      "naver;kakao;samsung\n",
      "naver;kakao;samsung\n"
     ]
    }
   ],
   "source": [
    "#.07\n",
    "\n",
    "print(\"naver;kakao;samsung\")\n",
    "print(\"naver\",\"kakao\",\"samsung\", sep = \";\")"
   ]
  },
  {
   "cell_type": "code",
   "execution_count": 20,
   "id": "6ee22930",
   "metadata": {},
   "outputs": [
    {
     "name": "stdout",
     "output_type": "stream",
     "text": [
      "naver/kakao/samsung\n"
     ]
    }
   ],
   "source": [
    "#.08\n",
    "print(\"naver\",\"kakao\",\"samsung\", sep = \"/\")"
   ]
  },
  {
   "cell_type": "code",
   "execution_count": 30,
   "id": "e6cd8f31",
   "metadata": {},
   "outputs": [
    {
     "name": "stdout",
     "output_type": "stream",
     "text": [
      "Frist\n",
      "Second\n",
      "Frist-Second."
     ]
    }
   ],
   "source": [
    "#.09\n",
    "print(\"Frist\");print(\"Second\")\n",
    "print(\"Frist\",end=\"-\");print(\"Second\",end=\".\")"
   ]
  },
  {
   "cell_type": "code",
   "execution_count": 31,
   "id": "6630722d",
   "metadata": {},
   "outputs": [
    {
     "name": "stdout",
     "output_type": "stream",
     "text": [
      "1.6666666666666667\n"
     ]
    }
   ],
   "source": [
    "#.10\n",
    "print(5/3)"
   ]
  },
  {
   "cell_type": "markdown",
   "id": "70910184",
   "metadata": {},
   "source": [
    "### Variable "
   ]
  },
  {
   "cell_type": "code",
   "execution_count": 32,
   "id": "17ec319f",
   "metadata": {},
   "outputs": [
    {
     "name": "stdout",
     "output_type": "stream",
     "text": [
      "500000\n"
     ]
    }
   ],
   "source": [
    "#.11\n",
    "\n",
    "Samsung = 50000\n",
    "print(Samsung*10)"
   ]
  },
  {
   "cell_type": "code",
   "execution_count": 46,
   "id": "3d9deef0",
   "metadata": {},
   "outputs": [
    {
     "name": "stdout",
     "output_type": "stream",
     "text": [
      "Total = 298000000000000\n",
      "Price = 50000\n",
      "Per = 15.79\n"
     ]
    }
   ],
   "source": [
    "#.12\n",
    "Total = 298000000000000\n",
    "Price = 50000\n",
    "Per = 15.79\n",
    "\n",
    "print(\"Total = {}\\nPrice = {}\\nPer = {}\".format(Total,Price,Per))"
   ]
  },
  {
   "cell_type": "code",
   "execution_count": 67,
   "id": "da4f96aa",
   "metadata": {},
   "outputs": [
    {
     "name": "stdout",
     "output_type": "stream",
     "text": [
      "Hello! Python\n",
      "Hello! Python\n"
     ]
    }
   ],
   "source": [
    "#.13\n",
    "s = \"Hello\"\n",
    "t = \"Python\"\n",
    "\n",
    "print(s+\"!\",t)\n",
    "print(s+\"!\", end=\" \"); print(t)"
   ]
  },
  {
   "cell_type": "code",
   "execution_count": 68,
   "id": "c4db5f95",
   "metadata": {},
   "outputs": [
    {
     "name": "stdout",
     "output_type": "stream",
     "text": [
      "8\n"
     ]
    }
   ],
   "source": [
    "#.14\n",
    "print(2+2*3)"
   ]
  },
  {
   "cell_type": "code",
   "execution_count": 69,
   "id": "385992d4",
   "metadata": {},
   "outputs": [
    {
     "name": "stdout",
     "output_type": "stream",
     "text": [
      "132 <class 'str'>\n"
     ]
    }
   ],
   "source": [
    "#.15\n",
    "a = \"132\"\n",
    "print(a, type(a))"
   ]
  },
  {
   "cell_type": "code",
   "execution_count": 74,
   "id": "e996e434",
   "metadata": {},
   "outputs": [
    {
     "name": "stdout",
     "output_type": "stream",
     "text": [
      "720 <class 'int'>\n",
      "721\n"
     ]
    }
   ],
   "source": [
    "#.16\n",
    "num_str = \"720\"\n",
    "num_int = int(num_str)\n",
    "print(num_int, type(num_int))\n",
    "print(num_int+1)"
   ]
  },
  {
   "cell_type": "code",
   "execution_count": 76,
   "id": "f11a9539",
   "metadata": {},
   "outputs": [
    {
     "name": "stdout",
     "output_type": "stream",
     "text": [
      "100 <class 'str'>\n"
     ]
    }
   ],
   "source": [
    "#.17\n",
    "num = 100\n",
    "num_str = str(num)\n",
    "\n",
    "print(num_str, type(num_str))"
   ]
  },
  {
   "cell_type": "code",
   "execution_count": 77,
   "id": "1c275997",
   "metadata": {},
   "outputs": [
    {
     "name": "stdout",
     "output_type": "stream",
     "text": [
      "15.79 <class 'float'>\n"
     ]
    }
   ],
   "source": [
    "#.18\n",
    "float_str = \"15.79\"\n",
    "float_int = float(float_str)\n",
    "print(float_int,type(float_int))"
   ]
  },
  {
   "cell_type": "code",
   "execution_count": 80,
   "id": "f9cf507f",
   "metadata": {},
   "outputs": [
    {
     "name": "stdout",
     "output_type": "stream",
     "text": [
      "2024 2025 2026 <class 'int'>\n"
     ]
    }
   ],
   "source": [
    "#.19\n",
    "year_str = \"2023\"\n",
    "year = int(year_str)\n",
    "\n",
    "print(year+1, year+2,year+3, type(year))"
   ]
  },
  {
   "cell_type": "code",
   "execution_count": 81,
   "id": "ece57fd2",
   "metadata": {},
   "outputs": [
    {
     "name": "stdout",
     "output_type": "stream",
     "text": [
      "1749024\n"
     ]
    }
   ],
   "source": [
    "#.20\n",
    "Month = 48584\n",
    "print(Month*36)"
   ]
  },
  {
   "cell_type": "markdown",
   "id": "25a879ff",
   "metadata": {},
   "source": [
    "## String\n",
    "\n",
    "1. replace\n",
    "2. capitalize\n",
    "3. upper( ) - lower( )\n",
    "4. endswith( ) - startwith( )\n",
    "5. strip - lstrip - rstrip"
   ]
  },
  {
   "cell_type": "code",
   "execution_count": 94,
   "id": "a7557d93",
   "metadata": {},
   "outputs": [
    {
     "name": "stdout",
     "output_type": "stream",
     "text": [
      "p t\n"
     ]
    }
   ],
   "source": [
    "#.21\n",
    "letters = 'python'\n",
    "print(letters[0],letters[2])"
   ]
  },
  {
   "cell_type": "code",
   "execution_count": 99,
   "id": "7f757993",
   "metadata": {},
   "outputs": [
    {
     "name": "stdout",
     "output_type": "stream",
     "text": [
      "2210\n",
      "2210\n"
     ]
    }
   ],
   "source": [
    "#.22\n",
    "license_plate = \"24G 2210\"\n",
    "print(license_plate[4:])\n",
    "print(license_plate[-4:])"
   ]
  },
  {
   "cell_type": "code",
   "execution_count": 102,
   "id": "485170ac",
   "metadata": {},
   "outputs": [
    {
     "name": "stdout",
     "output_type": "stream",
     "text": [
      "홀홀홀\n"
     ]
    }
   ],
   "source": [
    "#.23\n",
    "string = \"홀짝홀짝홀짝\"\n",
    "print(string[::2])"
   ]
  },
  {
   "cell_type": "code",
   "execution_count": 109,
   "id": "f3e153e5",
   "metadata": {},
   "outputs": [
    {
     "name": "stdout",
     "output_type": "stream",
     "text": [
      "NOHTYP\n"
     ]
    }
   ],
   "source": [
    "#.24\n",
    "string = \"PYTHON\"\n",
    "print(string[::-1])"
   ]
  },
  {
   "cell_type": "code",
   "execution_count": 131,
   "id": "1d60cb86",
   "metadata": {},
   "outputs": [
    {
     "name": "stdout",
     "output_type": "stream",
     "text": [
      "010 1111 2222\n"
     ]
    }
   ],
   "source": [
    "#.25\n",
    "phone_number = \"010-1111-2222\"\n",
    "print(phone_number.replace(\"-\",\" \"))"
   ]
  },
  {
   "cell_type": "code",
   "execution_count": 130,
   "id": "74281ade",
   "metadata": {},
   "outputs": [
    {
     "name": "stdout",
     "output_type": "stream",
     "text": [
      "01011112222\n"
     ]
    }
   ],
   "source": [
    "#.26\n",
    "phone_number = \"010-1111-2222\"\n",
    "print(phone_number.replace(\"-\",\"\"))"
   ]
  },
  {
   "cell_type": "code",
   "execution_count": 132,
   "id": "347e1941",
   "metadata": {},
   "outputs": [
    {
     "name": "stdout",
     "output_type": "stream",
     "text": [
      "kr\n",
      "kr\n"
     ]
    }
   ],
   "source": [
    "#.27\n",
    "url=\"http://sharebook.kr\"\n",
    "print(url[-2:])\n",
    "\n",
    "url_1 = url.split(\".\") # 문단을 구분을 정하는 - split\n",
    "print(url_1[-1])"
   ]
  },
  {
   "cell_type": "code",
   "execution_count": 133,
   "id": "32a2c084",
   "metadata": {},
   "outputs": [
    {
     "ename": "TypeError",
     "evalue": "'str' object does not support item assignment",
     "output_type": "error",
     "traceback": [
      "\u001b[0;31m---------------------------------------------------------------------------\u001b[0m",
      "\u001b[0;31mTypeError\u001b[0m                                 Traceback (most recent call last)",
      "\u001b[0;32m/var/folders/nt/2j45hj3d4395njfllwfvz6fr0000gn/T/ipykernel_1033/151288814.py\u001b[0m in \u001b[0;36m<module>\u001b[0;34m\u001b[0m\n\u001b[1;32m      1\u001b[0m \u001b[0;31m#.28\u001b[0m\u001b[0;34m\u001b[0m\u001b[0;34m\u001b[0m\u001b[0m\n\u001b[1;32m      2\u001b[0m \u001b[0mlang\u001b[0m \u001b[0;34m=\u001b[0m \u001b[0;34m\"python\"\u001b[0m\u001b[0;34m\u001b[0m\u001b[0;34m\u001b[0m\u001b[0m\n\u001b[0;32m----> 3\u001b[0;31m \u001b[0mlang\u001b[0m\u001b[0;34m[\u001b[0m\u001b[0;36m0\u001b[0m\u001b[0;34m]\u001b[0m \u001b[0;34m=\u001b[0m \u001b[0;34m\"p\"\u001b[0m\u001b[0;34m\u001b[0m\u001b[0;34m\u001b[0m\u001b[0m\n\u001b[0m\u001b[1;32m      4\u001b[0m \u001b[0mprint\u001b[0m\u001b[0;34m(\u001b[0m\u001b[0mlang\u001b[0m\u001b[0;34m)\u001b[0m\u001b[0;34m\u001b[0m\u001b[0;34m\u001b[0m\u001b[0m\n",
      "\u001b[0;31mTypeError\u001b[0m: 'str' object does not support item assignment"
     ]
    }
   ],
   "source": [
    "#.28\n",
    "lang = \"python\"\n",
    "lang[0] = \"A\"\n",
    "print(lang)\n",
    "\n",
    "# TypeError: 'str' object does not support item assignment"
   ]
  },
  {
   "cell_type": "code",
   "execution_count": 134,
   "id": "e91ec966",
   "metadata": {},
   "outputs": [
    {
     "name": "stdout",
     "output_type": "stream",
     "text": [
      "Abcdfe2A345A32A\n"
     ]
    }
   ],
   "source": [
    "#.29\n",
    "string = \"abcdfe2a345a32a\"\n",
    "print(string.replace(\"a\",\"A\"))"
   ]
  },
  {
   "cell_type": "code",
   "execution_count": 135,
   "id": "b3c15831",
   "metadata": {},
   "outputs": [
    {
     "name": "stdout",
     "output_type": "stream",
     "text": [
      "aBcd\n"
     ]
    }
   ],
   "source": [
    "#.30\n",
    "string = \"abcd\"\n",
    "print(string.replace(\"b\",\"B\"))"
   ]
  },
  {
   "cell_type": "code",
   "execution_count": 136,
   "id": "0a0530d8",
   "metadata": {},
   "outputs": [
    {
     "name": "stdout",
     "output_type": "stream",
     "text": [
      "34\n"
     ]
    }
   ],
   "source": [
    "#.31\n",
    "a = \"3\"\n",
    "b = \"4\"\n",
    "print(a+b)"
   ]
  },
  {
   "cell_type": "code",
   "execution_count": 137,
   "id": "e13dea3f",
   "metadata": {},
   "outputs": [
    {
     "name": "stdout",
     "output_type": "stream",
     "text": [
      "HiHiHi\n"
     ]
    }
   ],
   "source": [
    "#.32\n",
    "print(\"Hi\"*3)"
   ]
  },
  {
   "cell_type": "code",
   "execution_count": 139,
   "id": "4b2312e7",
   "metadata": {},
   "outputs": [
    {
     "name": "stdout",
     "output_type": "stream",
     "text": [
      "--------------------------------------------------------------------------------\n"
     ]
    }
   ],
   "source": [
    "#.33\n",
    "print(\"-\"*80)"
   ]
  },
  {
   "cell_type": "code",
   "execution_count": 146,
   "id": "3868b6a4",
   "metadata": {},
   "outputs": [
    {
     "name": "stdout",
     "output_type": "stream",
     "text": [
      "python java python java python java python java \n"
     ]
    }
   ],
   "source": [
    "#.34\n",
    "t1 = \"python\"\n",
    "t2 = \"java\"\n",
    "print((t1+\" \"+t2+\" \")*4)"
   ]
  },
  {
   "cell_type": "code",
   "execution_count": 168,
   "id": "786961b0",
   "metadata": {},
   "outputs": [
    {
     "name": "stdout",
     "output_type": "stream",
     "text": [
      "Name : LJY age : 27\n",
      "Name : KSY age : 6\n"
     ]
    }
   ],
   "source": [
    "#.35-37\n",
    "name1 = \"LJY\"\n",
    "age1 = 27\n",
    "name2 = \"KSY\"\n",
    "age2 = 6\n",
    "\n",
    "print(\"Name : {} age : {}\\nName : {} age : {}\".format(name1,age1,name2,age2))"
   ]
  },
  {
   "cell_type": "code",
   "execution_count": 177,
   "id": "bbff0f64",
   "metadata": {},
   "outputs": [
    {
     "name": "stdout",
     "output_type": "stream",
     "text": [
      "5969782550 <class 'int'>\n"
     ]
    }
   ],
   "source": [
    "#.38\n",
    "Up_Stock = \"5,969,782,550\"\n",
    "Up_Stock_01 = Up_Stock.replace(\",\",\"\")\n",
    "Up_Stocks = int(Up_Stock_01)\n",
    "print(Up_Stocks, type(Up_Stocks))"
   ]
  },
  {
   "cell_type": "code",
   "execution_count": 181,
   "id": "3e6e09aa",
   "metadata": {},
   "outputs": [
    {
     "name": "stdout",
     "output_type": "stream",
     "text": [
      "2020/03\n",
      "2020/03(E)\n"
     ]
    }
   ],
   "source": [
    "#.39\n",
    "Part = \"2020/03(E) (IFRS conect)\"\n",
    "print(Part[:7])\n",
    "\n",
    "Part_01 = Part.split(\" \")\n",
    "print(Part_01[0])"
   ]
  },
  {
   "cell_type": "code",
   "execution_count": 182,
   "id": "040d38a2",
   "metadata": {},
   "outputs": [
    {
     "name": "stdout",
     "output_type": "stream",
     "text": [
      "Samsung\n"
     ]
    }
   ],
   "source": [
    "#.40\n",
    "data = \"  Samsung  \"\n",
    "print(data.strip())"
   ]
  },
  {
   "cell_type": "code",
   "execution_count": 189,
   "id": "77c58814",
   "metadata": {},
   "outputs": [
    {
     "name": "stdout",
     "output_type": "stream",
     "text": [
      "BTC_KRW\n"
     ]
    }
   ],
   "source": [
    "#.41\n",
    "ticker = \"btc_krw\"\n",
    "print(ticker.upper())"
   ]
  },
  {
   "cell_type": "code",
   "execution_count": 190,
   "id": "e00a502b",
   "metadata": {},
   "outputs": [
    {
     "name": "stdout",
     "output_type": "stream",
     "text": [
      "btc_krw\n"
     ]
    }
   ],
   "source": [
    "#.42\n",
    "ticker = \"BTC_KRW\"\n",
    "print(ticker.lower())"
   ]
  },
  {
   "cell_type": "code",
   "execution_count": 193,
   "id": "d0cd84a9",
   "metadata": {},
   "outputs": [
    {
     "name": "stdout",
     "output_type": "stream",
     "text": [
      "Hello\n",
      "Hello\n"
     ]
    }
   ],
   "source": [
    "#.43\n",
    "str = \"hello\"\n",
    "print(str.capitalize())\n",
    "print(str.replace(\"h\",\"H\"))"
   ]
  },
  {
   "cell_type": "code",
   "execution_count": 208,
   "id": "996681f7",
   "metadata": {},
   "outputs": [
    {
     "name": "stdout",
     "output_type": "stream",
     "text": [
      "True\n"
     ]
    }
   ],
   "source": [
    "#.44\n",
    "file_name = \"Report.xlsx\"\n",
    "print(file_name.endswith(\"xlsx\"))"
   ]
  },
  {
   "cell_type": "code",
   "execution_count": 202,
   "id": "01e63969",
   "metadata": {},
   "outputs": [
    {
     "data": {
      "text/plain": [
       "False"
      ]
     },
     "execution_count": 202,
     "metadata": {},
     "output_type": "execute_result"
    }
   ],
   "source": [
    "#.45\n",
    "file_name = \"Report.xlsx\"\n",
    "file_name.endswith((\"xls\"))"
   ]
  },
  {
   "cell_type": "code",
   "execution_count": 196,
   "id": "af18b6df",
   "metadata": {},
   "outputs": [
    {
     "name": "stdout",
     "output_type": "stream",
     "text": [
      "True\n"
     ]
    }
   ],
   "source": [
    "#.46\n",
    "file_name = \"2020_Report.xlsx\"\n",
    "print(file_name.startswith(\"2020\"))"
   ]
  },
  {
   "cell_type": "code",
   "execution_count": 209,
   "id": "2beef7a4",
   "metadata": {},
   "outputs": [
    {
     "name": "stdout",
     "output_type": "stream",
     "text": [
      "['Hello', 'world']\n"
     ]
    }
   ],
   "source": [
    "#.47\n",
    "a = \"Hello world\"\n",
    "print(a.split())"
   ]
  },
  {
   "cell_type": "code",
   "execution_count": 212,
   "id": "38b054b6",
   "metadata": {},
   "outputs": [
    {
     "name": "stdout",
     "output_type": "stream",
     "text": [
      "['btc', 'krw']\n"
     ]
    }
   ],
   "source": [
    "#.48\n",
    "ticker = \"btc_krw\"\n",
    "print(ticker.split(\"_\"))"
   ]
  },
  {
   "cell_type": "code",
   "execution_count": 214,
   "id": "238b8c44",
   "metadata": {},
   "outputs": [
    {
     "name": "stdout",
     "output_type": "stream",
     "text": [
      "['2020', '05', '01']\n"
     ]
    }
   ],
   "source": [
    "#.49\n",
    "data = \"2020-05-01\"\n",
    "print(data.split(\"-\"))"
   ]
  },
  {
   "cell_type": "code",
   "execution_count": 217,
   "id": "8a381dd1",
   "metadata": {},
   "outputs": [
    {
     "name": "stdout",
     "output_type": "stream",
     "text": [
      "   039490\n",
      "039490    \n"
     ]
    }
   ],
   "source": [
    "#.50\n",
    "data = \"   039490    \"\n",
    "print(data.rstrip());print(data.lstrip())"
   ]
  },
  {
   "cell_type": "markdown",
   "id": "2b54068c",
   "metadata": {},
   "source": [
    "## List\n",
    "\n",
    "1. join\n",
    "2. sort - sorted"
   ]
  },
  {
   "cell_type": "code",
   "execution_count": 234,
   "id": "141a77ba",
   "metadata": {},
   "outputs": [],
   "source": [
    "#.51\n",
    "movie = ['a', 'b', 'c']"
   ]
  },
  {
   "cell_type": "code",
   "execution_count": 235,
   "id": "54d5360c",
   "metadata": {},
   "outputs": [
    {
     "name": "stdout",
     "output_type": "stream",
     "text": [
      "['a', 'b', 'c', 'd']\n"
     ]
    }
   ],
   "source": [
    "#.52\n",
    "movie.append('d')\n",
    "print(movie)"
   ]
  },
  {
   "cell_type": "code",
   "execution_count": 236,
   "id": "6fd82d4d",
   "metadata": {},
   "outputs": [
    {
     "name": "stdout",
     "output_type": "stream",
     "text": [
      "['0', 'a', 'b', 'c', 'd']\n"
     ]
    }
   ],
   "source": [
    "#.53\n",
    "movie.insert(0,\"0\")\n",
    "print(movie)"
   ]
  },
  {
   "cell_type": "code",
   "execution_count": 237,
   "id": "a04a4dc5",
   "metadata": {},
   "outputs": [
    {
     "name": "stdout",
     "output_type": "stream",
     "text": [
      "['0', 'a', 'b', 'c']\n"
     ]
    }
   ],
   "source": [
    "#.54\n",
    "del movie[-1]\n",
    "print(movie)"
   ]
  },
  {
   "cell_type": "code",
   "execution_count": 238,
   "id": "4a4a96ec",
   "metadata": {},
   "outputs": [
    {
     "name": "stdout",
     "output_type": "stream",
     "text": [
      "['0', 'a']\n"
     ]
    }
   ],
   "source": [
    "#.55\n",
    "del movie[-1]\n",
    "del movie[-1]\n",
    "print(movie)"
   ]
  },
  {
   "cell_type": "code",
   "execution_count": 240,
   "id": "17726604",
   "metadata": {},
   "outputs": [
    {
     "name": "stdout",
     "output_type": "stream",
     "text": [
      "['C', 'C++', 'JAVA', 'Pytjon', 'R', 'C#']\n"
     ]
    }
   ],
   "source": [
    "#.56\n",
    "lang1 = [\"C\", \"C++\", \"JAVA\"]\n",
    "lang2 = [\"Pytjon\", \"R\", \"C#\"]\n",
    "langs = lang1 + lang2\n",
    "print(langs)"
   ]
  },
  {
   "cell_type": "code",
   "execution_count": 244,
   "id": "f3299d0f",
   "metadata": {},
   "outputs": [
    {
     "name": "stdout",
     "output_type": "stream",
     "text": [
      "max :  7\n",
      "min :  1\n"
     ]
    }
   ],
   "source": [
    "#.57\n",
    "nums = [1,2,3,4,5,6,7]\n",
    "print(\"max : \", max(nums));print(\"min : \",min(nums))"
   ]
  },
  {
   "cell_type": "code",
   "execution_count": 246,
   "id": "82e153d8",
   "metadata": {},
   "outputs": [
    {
     "name": "stdout",
     "output_type": "stream",
     "text": [
      "sum :  15\n"
     ]
    }
   ],
   "source": [
    "#.58\n",
    "nums = [1,2,3,4,5]\n",
    "print(\"sum : \", sum(nums))"
   ]
  },
  {
   "cell_type": "code",
   "execution_count": 247,
   "id": "bcfe832c",
   "metadata": {},
   "outputs": [
    {
     "name": "stdout",
     "output_type": "stream",
     "text": [
      "8\n"
     ]
    }
   ],
   "source": [
    "#.59\n",
    "cook = [\"Pizza\",\"Gimbam\",\"Mando\",\"chicken\",\"Sosege\",\"Ramen\",\"Bingsu\",\"Duckbokki\"]\n",
    "print(len(cook))"
   ]
  },
  {
   "cell_type": "code",
   "execution_count": 249,
   "id": "86d583ef",
   "metadata": {},
   "outputs": [
    {
     "name": "stdout",
     "output_type": "stream",
     "text": [
      "3.0\n"
     ]
    }
   ],
   "source": [
    "#.60\n",
    "nums = [1,2,3,4,5]\n",
    "average = sum(nums) / len(nums)\n",
    "print(average)"
   ]
  },
  {
   "cell_type": "code",
   "execution_count": 254,
   "id": "484e03d0",
   "metadata": {},
   "outputs": [
    {
     "name": "stdout",
     "output_type": "stream",
     "text": [
      "[100, 130, 140, 150, 160, 170]\n"
     ]
    }
   ],
   "source": [
    "#.61\n",
    "price= ['20180728',100,130,140,150,160,170]\n",
    "print(price[1:])"
   ]
  },
  {
   "cell_type": "code",
   "execution_count": 259,
   "id": "441e5385",
   "metadata": {},
   "outputs": [
    {
     "name": "stdout",
     "output_type": "stream",
     "text": [
      "[1, 3, 5, 7, 9]\n"
     ]
    }
   ],
   "source": [
    "#.62\n",
    "nums = [1,2,3,4,5,6,7,8,9,10]\n",
    "print(nums[::2])"
   ]
  },
  {
   "cell_type": "code",
   "execution_count": 263,
   "id": "7f0682da",
   "metadata": {},
   "outputs": [
    {
     "name": "stdout",
     "output_type": "stream",
     "text": [
      "[2, 4, 6, 8, 10]\n"
     ]
    }
   ],
   "source": [
    "#.63\n",
    "nums = [1,2,3,4,5,6,7,8,9,10]\n",
    "print(nums[1::2])"
   ]
  },
  {
   "cell_type": "code",
   "execution_count": 264,
   "id": "e8f429d2",
   "metadata": {},
   "outputs": [
    {
     "name": "stdout",
     "output_type": "stream",
     "text": [
      "[10, 9, 8, 7, 6, 5, 4, 3, 2, 1]\n"
     ]
    }
   ],
   "source": [
    "#.64\n",
    "nums = [1,2,3,4,5,6,7,8,9,10]\n",
    "print(nums[::-1])"
   ]
  },
  {
   "cell_type": "code",
   "execution_count": 268,
   "id": "aa93886e",
   "metadata": {},
   "outputs": [
    {
     "name": "stdout",
     "output_type": "stream",
     "text": [
      "['samsung', 'Naver']\n",
      "samsung Naver\n"
     ]
    }
   ],
   "source": [
    "#.65\n",
    "interest = [\"samsung\", \"LG\", \"Naver\"]\n",
    "print(interest[::2])\n",
    "print(interest[0], interest[2])"
   ]
  },
  {
   "cell_type": "code",
   "execution_count": 272,
   "id": "4e316707",
   "metadata": {},
   "outputs": [
    {
     "name": "stdout",
     "output_type": "stream",
     "text": [
      "['samsung', 'LG', 'Naver', 'SK', 'Kakao']\n",
      "samsung LG Naver SK Kakao\n",
      "samsung LG Naver SK Kakao\n"
     ]
    }
   ],
   "source": [
    "#.66\n",
    "interest = [\"samsung\", \"LG\", \"Naver\",\"SK\",\"Kakao\"]\n",
    "print(interest)\n",
    "print(interest[0],interest[1],interest[2],interest[3],interest[4])\n",
    "print(\" \".join(interest))"
   ]
  },
  {
   "cell_type": "code",
   "execution_count": 276,
   "id": "2848fe01",
   "metadata": {},
   "outputs": [
    {
     "name": "stdout",
     "output_type": "stream",
     "text": [
      "samsung/LG/Naver/SK/Kakao\n"
     ]
    }
   ],
   "source": [
    "#.67\n",
    "interest = [\"samsung\", \"LG\", \"Naver\",\"SK\",\"Kakao\"]\n",
    "print(\"/\".join(interest))"
   ]
  },
  {
   "cell_type": "code",
   "execution_count": 277,
   "id": "a9500394",
   "metadata": {},
   "outputs": [
    {
     "name": "stdout",
     "output_type": "stream",
     "text": [
      "samsung\n",
      "LG\n",
      "Naver\n",
      "SK\n",
      "Kakao\n"
     ]
    }
   ],
   "source": [
    "#.68\n",
    "interest = [\"samsung\", \"LG\", \"Naver\",\"SK\",\"Kakao\"]\n",
    "print(\"\\n\".join(interest))"
   ]
  },
  {
   "cell_type": "code",
   "execution_count": 280,
   "id": "b370feb3",
   "metadata": {},
   "outputs": [
    {
     "name": "stdout",
     "output_type": "stream",
     "text": [
      "['Samung', 'LG', 'Naver'] <class 'list'>\n"
     ]
    }
   ],
   "source": [
    "#.69\n",
    "string = \"Samung/LG/Naver\"\n",
    "interest = list(string.split(\"/\"))\n",
    "print(interest, type(interest))"
   ]
  },
  {
   "cell_type": "code",
   "execution_count": 286,
   "id": "0e2ff143",
   "metadata": {},
   "outputs": [
    {
     "name": "stdout",
     "output_type": "stream",
     "text": [
      "[1, 2, 3, 4, 5, 6]\n"
     ]
    }
   ],
   "source": [
    "#.70\n",
    "data = [2,3,4,5,6,1]\n",
    "a = sorted(data)\n",
    "print(a)"
   ]
  },
  {
   "cell_type": "markdown",
   "id": "d839d88b",
   "metadata": {},
   "source": [
    "## Tupple\n",
    "1. Unpacking ( Same element values )\n",
    "2. Start expression ( Exception Unpacking )"
   ]
  },
  {
   "cell_type": "code",
   "execution_count": 298,
   "id": "2b873776",
   "metadata": {},
   "outputs": [
    {
     "name": "stdout",
     "output_type": "stream",
     "text": [
      "() <class 'tuple'>\n"
     ]
    }
   ],
   "source": [
    "#.71\n",
    "my_variable = ()\n",
    "print(my_variable, type(my_variable ))"
   ]
  },
  {
   "cell_type": "code",
   "execution_count": 299,
   "id": "70161c20",
   "metadata": {},
   "outputs": [
    {
     "name": "stdout",
     "output_type": "stream",
     "text": [
      "('a', 'b', 'c')\n"
     ]
    }
   ],
   "source": [
    "#.72\n",
    "movie = ('a', 'b', 'c')\n",
    "print(movie)"
   ]
  },
  {
   "cell_type": "code",
   "execution_count": 305,
   "id": "dd005540",
   "metadata": {},
   "outputs": [
    {
     "name": "stdout",
     "output_type": "stream",
     "text": [
      "1 <class 'int'>\n",
      "(1,) <class 'tuple'>\n"
     ]
    }
   ],
   "source": [
    "#.73\n",
    "tupple = (1)\n",
    "print(tupple, type(tupple))\n",
    "\n",
    "tupple = (1,)\n",
    "print(tupple, type(tupple))"
   ]
  },
  {
   "cell_type": "code",
   "execution_count": 306,
   "id": "6536ce7c",
   "metadata": {},
   "outputs": [
    {
     "ename": "TypeError",
     "evalue": "'tuple' object does not support item assignment",
     "output_type": "error",
     "traceback": [
      "\u001b[0;31m---------------------------------------------------------------------------\u001b[0m",
      "\u001b[0;31mTypeError\u001b[0m                                 Traceback (most recent call last)",
      "\u001b[0;32m/var/folders/nt/2j45hj3d4395njfllwfvz6fr0000gn/T/ipykernel_1033/3225425844.py\u001b[0m in \u001b[0;36m<module>\u001b[0;34m\u001b[0m\n\u001b[1;32m      1\u001b[0m \u001b[0;31m#.74\u001b[0m\u001b[0;34m\u001b[0m\u001b[0;34m\u001b[0m\u001b[0m\n\u001b[1;32m      2\u001b[0m \u001b[0mt\u001b[0m \u001b[0;34m=\u001b[0m \u001b[0;34m(\u001b[0m\u001b[0;36m1\u001b[0m\u001b[0;34m,\u001b[0m\u001b[0;36m2\u001b[0m\u001b[0;34m,\u001b[0m\u001b[0;36m3\u001b[0m\u001b[0;34m)\u001b[0m\u001b[0;34m\u001b[0m\u001b[0;34m\u001b[0m\u001b[0m\n\u001b[0;32m----> 3\u001b[0;31m \u001b[0mt\u001b[0m\u001b[0;34m[\u001b[0m\u001b[0;36m0\u001b[0m\u001b[0;34m]\u001b[0m \u001b[0;34m=\u001b[0m \u001b[0;34m'a'\u001b[0m\u001b[0;34m\u001b[0m\u001b[0;34m\u001b[0m\u001b[0m\n\u001b[0m",
      "\u001b[0;31mTypeError\u001b[0m: 'tuple' object does not support item assignment"
     ]
    }
   ],
   "source": [
    "#.74\n",
    "t = (1,2,3)\n",
    "t[0] = 'a'\n",
    "# TypeError: 'tuple' object does not support item assignment\n",
    "# 튜플은 원소(elements) 의 값을 변경할 수 없음 "
   ]
  },
  {
   "cell_type": "code",
   "execution_count": 308,
   "id": "f5d8d5c5",
   "metadata": {},
   "outputs": [
    {
     "name": "stdout",
     "output_type": "stream",
     "text": [
      "('a', 'b', 'c') <class 'tuple'>\n",
      "('A', 'B', 'c') <class 'tuple'>\n"
     ]
    }
   ],
   "source": [
    "#.75 - 76\n",
    "t = (\"a\",\"b\",\"c\")\n",
    "print(t, type(t))\n",
    "\n",
    "#원소 값의 변경을 위해서는 새롭게 만들어야 한다.\n",
    "\n",
    "t = (\"A\",\"B\",\"c\")\n",
    "print(t, type(t))"
   ]
  },
  {
   "cell_type": "code",
   "execution_count": 309,
   "id": "60e9f2e8",
   "metadata": {},
   "outputs": [
    {
     "data": {
      "text/plain": [
       "['Samsung', 'LG', 'SK']"
      ]
     },
     "execution_count": 309,
     "metadata": {},
     "output_type": "execute_result"
    }
   ],
   "source": [
    "#.77\n",
    "interest = (\"Samsung\", \"LG\", \"SK\")\n",
    "list(interest)"
   ]
  },
  {
   "cell_type": "code",
   "execution_count": 311,
   "id": "12a2b47e",
   "metadata": {},
   "outputs": [
    {
     "data": {
      "text/plain": [
       "('Samsung', 'LG', 'SK')"
      ]
     },
     "execution_count": 311,
     "metadata": {},
     "output_type": "execute_result"
    }
   ],
   "source": [
    "#.78\n",
    "interest = [\"Samsung\", \"LG\", \"SK\"]\n",
    "tuple(interest)"
   ]
  },
  {
   "cell_type": "code",
   "execution_count": 312,
   "id": "4cc4b114",
   "metadata": {},
   "outputs": [
    {
     "name": "stdout",
     "output_type": "stream",
     "text": [
      "apple banna cake\n"
     ]
    }
   ],
   "source": [
    "#.79 - UNPACIKNG\n",
    "temp = (\"apple\", \"banna\", \"cake\")\n",
    "a,b,c = temp\n",
    "print(a,b,c)"
   ]
  },
  {
   "cell_type": "code",
   "execution_count": 328,
   "id": "d1497dd3",
   "metadata": {},
   "outputs": [
    {
     "name": "stdout",
     "output_type": "stream",
     "text": [
      "(2, 4, 6, 8, 10, 12, 14, 16, 18, 20, 22, 24, 26, 28, 30, 32, 34, 36, 38, 40, 42, 44, 46, 48, 50, 52, 54, 56, 58, 60, 62, 64, 66, 68, 70, 72, 74, 76, 78, 80, 82, 84, 86, 88, 90, 92, 94, 96, 98)\n"
     ]
    }
   ],
   "source": [
    "#.80\n",
    "a = tuple(range(2,100,2))\n",
    "print(a)"
   ]
  },
  {
   "cell_type": "code",
   "execution_count": 331,
   "id": "edca7bcf",
   "metadata": {},
   "outputs": [
    {
     "name": "stdout",
     "output_type": "stream",
     "text": [
      "0\n",
      "1\n",
      "[2, 3, 4, 5]\n",
      "0\n",
      "[1, 2, 3, 4]\n",
      "5\n",
      "[0, 1, 2, 3]\n",
      "4\n",
      "5\n"
     ]
    }
   ],
   "source": [
    "#.81 - Exception unpacking\n",
    "a,b,*c = (0,1,2,3,4,5)\n",
    "print(a);print(b);print(c)\n",
    "\n",
    "a,*b,c = (0,1,2,3,4,5)\n",
    "print(a);print(b);print(c)\n",
    "\n",
    "*a,b,c = (0,1,2,3,4,5)\n",
    "print(a);print(b);print(c)"
   ]
  },
  {
   "cell_type": "code",
   "execution_count": 335,
   "id": "03b4c246",
   "metadata": {},
   "outputs": [
    {
     "name": "stdout",
     "output_type": "stream",
     "text": [
      "8.8\n",
      "8.9\n",
      "[9.2, 9.3, 9.7, 9.9, 7.8, 1.5, 3.5, 7.9]\n",
      "\n",
      "8.8\n",
      "[8.9, 9.2, 9.3, 9.7, 9.9, 7.8, 1.5, 3.5]\n",
      "7.9\n"
     ]
    }
   ],
   "source": [
    "#.82 - 83\n",
    "scores = (8.8, 8.9, 9.2, 9.3, 9.7, 9.9, 7.8, 1.5, 3.5, 7.9)\n",
    "\n",
    "a,b,*valid_score = scores\n",
    "print(a);print(b);print(valid_score)\n",
    "\n",
    "print()\n",
    "\n",
    "scores = [8.8, 8.9, 9.2, 9.3, 9.7, 9.9, 7.8, 1.5, 3.5, 7.9]\n",
    "a,*valid_score,b = scores\n",
    "print(a);print(valid_score);print(b)"
   ]
  },
  {
   "cell_type": "markdown",
   "id": "49855332",
   "metadata": {},
   "source": [
    "## Dictionary\n",
    "\n",
    "1. update\n",
    "2. zip - dict\n"
   ]
  },
  {
   "cell_type": "code",
   "execution_count": 341,
   "id": "4823b7ea",
   "metadata": {},
   "outputs": [
    {
     "name": "stdout",
     "output_type": "stream",
     "text": [
      "{} <class 'dict'>\n"
     ]
    }
   ],
   "source": [
    "#.84\n",
    "dic = {}\n",
    "print(dic, type(dic))"
   ]
  },
  {
   "cell_type": "code",
   "execution_count": 342,
   "id": "e6535403",
   "metadata": {},
   "outputs": [
    {
     "name": "stdout",
     "output_type": "stream",
     "text": [
      "{'Merona': 1000, 'Polapo': 1200, 'Babamba': 1800}\n"
     ]
    }
   ],
   "source": [
    "#.85\n",
    "dic = {\"Merona\":1000, \"Polapo\":1200, \"Babamba\":1800}\n",
    "print(dic)"
   ]
  },
  {
   "cell_type": "code",
   "execution_count": 345,
   "id": "7a3685c1",
   "metadata": {},
   "outputs": [
    {
     "name": "stdout",
     "output_type": "stream",
     "text": [
      "{'Merona': 1000, 'Polapo': 1200, 'Babamba': 1800, 'Shark': 1200, 'Wrold': 1500}\n"
     ]
    }
   ],
   "source": [
    "#.86\n",
    "dic[\"Shark\"]=1200\n",
    "dic[\"Wrold\"]=1500\n",
    "print(dic)"
   ]
  },
  {
   "cell_type": "code",
   "execution_count": 347,
   "id": "797dc70b",
   "metadata": {},
   "outputs": [
    {
     "name": "stdout",
     "output_type": "stream",
     "text": [
      "Merona Price :  1000\n"
     ]
    }
   ],
   "source": [
    "#.87\n",
    "print(\"Merona Price : \", dic[\"Merona\"])"
   ]
  },
  {
   "cell_type": "code",
   "execution_count": 349,
   "id": "9c4938b2",
   "metadata": {},
   "outputs": [
    {
     "name": "stdout",
     "output_type": "stream",
     "text": [
      "{'Merona': 1300, 'Polapo': 1200, 'Babamba': 1800, 'Shark': 1200, 'Wrold': 1500}\n"
     ]
    }
   ],
   "source": [
    "#.88\n",
    "dic[\"Merona\"]=1300\n",
    "print(dic)"
   ]
  },
  {
   "cell_type": "code",
   "execution_count": 350,
   "id": "b5e7e2ed",
   "metadata": {},
   "outputs": [
    {
     "name": "stdout",
     "output_type": "stream",
     "text": [
      "{'Merona': 1300, 'Polapo': 1200, 'Babamba': 1800, 'Shark': 1200}\n"
     ]
    }
   ],
   "source": [
    "#.89\n",
    "del dic[\"Wrold\"]\n",
    "print(dic)"
   ]
  },
  {
   "cell_type": "code",
   "execution_count": 351,
   "id": "d3e89f32",
   "metadata": {},
   "outputs": [],
   "source": [
    "#.90"
   ]
  },
  {
   "cell_type": "code",
   "execution_count": 354,
   "id": "0714bbd1",
   "metadata": {},
   "outputs": [
    {
     "name": "stdout",
     "output_type": "stream",
     "text": [
      "{'Merona': [300, 20], 'Bibibig': [400, 3], 'Shark_bar': [250, 100]}\n"
     ]
    }
   ],
   "source": [
    "#.91\n",
    "inventory = {\"Merona\":[300,20], \"Bibibig\":[400,3], \"Shark_bar\":[250,100]}\n",
    "print(inventory)"
   ]
  },
  {
   "cell_type": "code",
   "execution_count": 358,
   "id": "264000a2",
   "metadata": {},
   "outputs": [
    {
     "name": "stdout",
     "output_type": "stream",
     "text": [
      "300 won\n"
     ]
    }
   ],
   "source": [
    "#.92\n",
    "print(inventory[\"Merona\"][0],\"won\")"
   ]
  },
  {
   "cell_type": "code",
   "execution_count": 359,
   "id": "0d55649e",
   "metadata": {},
   "outputs": [
    {
     "name": "stdout",
     "output_type": "stream",
     "text": [
      "20\n"
     ]
    }
   ],
   "source": [
    "#.93\n",
    "print(inventory[\"Merona\"][1])"
   ]
  },
  {
   "cell_type": "code",
   "execution_count": 361,
   "id": "ed3892a9",
   "metadata": {},
   "outputs": [
    {
     "name": "stdout",
     "output_type": "stream",
     "text": [
      "{'Merona': [300, 20], 'Bibibig': [400, 3], 'Shark_bar': [250, 100], 'World': [500, 7]}\n"
     ]
    }
   ],
   "source": [
    "#.94\n",
    "inventory[\"World\"]=[500,7]\n",
    "print(inventory)"
   ]
  },
  {
   "cell_type": "code",
   "execution_count": 364,
   "id": "9156b9fa",
   "metadata": {},
   "outputs": [
    {
     "name": "stdout",
     "output_type": "stream",
     "text": [
      "dict_keys(['Merona', 'Bibibig', 'Shark_bar', 'World'])\n"
     ]
    }
   ],
   "source": [
    "#.95\n",
    "print(inventory.keys())"
   ]
  },
  {
   "cell_type": "code",
   "execution_count": 365,
   "id": "731623b3",
   "metadata": {},
   "outputs": [
    {
     "name": "stdout",
     "output_type": "stream",
     "text": [
      "dict_values([[300, 20], [400, 3], [250, 100], [500, 7]])\n"
     ]
    }
   ],
   "source": [
    "#.96\n",
    "print(inventory.values())"
   ]
  },
  {
   "cell_type": "code",
   "execution_count": 366,
   "id": "8d292691",
   "metadata": {},
   "outputs": [
    {
     "name": "stdout",
     "output_type": "stream",
     "text": [
      "5200\n"
     ]
    }
   ],
   "source": [
    "#.97\n",
    "dic = {\"Merona\":1000, \"Polapo\":1200, \"Babamba\":1800, \"Tankboy\":1200}\n",
    "print(sum(dic.values()))"
   ]
  },
  {
   "cell_type": "code",
   "execution_count": 369,
   "id": "a0aca8f4",
   "metadata": {},
   "outputs": [
    {
     "name": "stdout",
     "output_type": "stream",
     "text": [
      "{'Merona': 1000, 'Polapo': 1200, 'Babamba': 1800, 'Tankboy': 1200, 'Bingsu': 2700, 'Amatna': 1000}\n"
     ]
    }
   ],
   "source": [
    "#.98\n",
    "new_dic = {\"Bingsu\":2700, \"Amatna\":1000}\n",
    "dic.update(new_dic)\n",
    "print(dic)"
   ]
  },
  {
   "cell_type": "code",
   "execution_count": 370,
   "id": "1b3aa57e",
   "metadata": {},
   "outputs": [
    {
     "name": "stdout",
     "output_type": "stream",
     "text": [
      "{'apple': 300, 'pear': 250, 'peach': 400}\n"
     ]
    }
   ],
   "source": [
    "#.99\n",
    "keys = (\"apple\",\"pear\",\"peach\")\n",
    "vals = (300,250,400)\n",
    "\n",
    "result = dict(zip(keys, vals))\n",
    "print(result)"
   ]
  },
  {
   "cell_type": "code",
   "execution_count": 371,
   "id": "a3d84cc2",
   "metadata": {},
   "outputs": [
    {
     "name": "stdout",
     "output_type": "stream",
     "text": [
      "{'09/08': 10500, '06/27': 10300, '09/27': 10100, '02/12': 1000}\n"
     ]
    }
   ],
   "source": [
    "#.100\n",
    "date = ['09/08', '06/27', '09/27', '02/12']\n",
    "close_price = [10500, 10300, 10100, 1000, 11000]\n",
    "\n",
    "close_table = dict(zip(date,close_price))\n",
    "print(close_table)\n"
   ]
  }
 ],
 "metadata": {
  "kernelspec": {
   "display_name": "Python 3 (ipykernel)",
   "language": "python",
   "name": "python3"
  },
  "language_info": {
   "codemirror_mode": {
    "name": "ipython",
    "version": 3
   },
   "file_extension": ".py",
   "mimetype": "text/x-python",
   "name": "python",
   "nbconvert_exporter": "python",
   "pygments_lexer": "ipython3",
   "version": "3.9.13"
  }
 },
 "nbformat": 4,
 "nbformat_minor": 5
}
