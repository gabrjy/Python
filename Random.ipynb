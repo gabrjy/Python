{
 "cells": [
  {
   "cell_type": "code",
   "execution_count": 19,
   "id": "809e2687",
   "metadata": {},
   "outputs": [
    {
     "name": "stdout",
     "output_type": "stream",
     "text": [
      "5.608249954184677\n",
      "1\n",
      "1\n",
      "0\n"
     ]
    }
   ],
   "source": [
    "import random\n",
    "\n",
    "a = 1\n",
    "b = 10\n",
    "\n",
    "print((random.uniform(a,b)))# a - b 사이의 실수값 반환 \n",
    "print((random.randint(a,b)))# a - b 사이의 정수값 반환\n",
    "print((random.randrange(a,b)))# a - b 사이의 정수값 반환\n",
    "print((random.randrange(a)))# 0 - a 까지의 정수값 반환\n",
    "## random.choice(type) type : 튜플, 리스트, 문자열 값을 받아 무작위로 반환 가능"
   ]
  },
  {
   "cell_type": "code",
   "execution_count": 47,
   "id": "816dcbf7",
   "metadata": {},
   "outputs": [
    {
     "name": "stdout",
     "output_type": "stream",
     "text": [
      "Pleas input your number(0~10) : 3\n",
      "Up\n",
      "Pleas input your number(0~10) : 6\n",
      "Up\n",
      "Pleas input your number(0~10) : 7\n",
      "Great. You are collect! try : 3\n"
     ]
    }
   ],
   "source": [
    "random_number = random.randint(1,10)\n",
    "game_count = 1\n",
    "\n",
    "while True :\n",
    "    try :\n",
    "        My_number = int(input(\"Pleas input your number(0~10) : \"))\n",
    "        \n",
    "        if My_number > random_number : \n",
    "            print(\"Down\")\n",
    "            \n",
    "        elif My_number < random_number : \n",
    "            print(\"Up\")\n",
    "            \n",
    "        elif My_number == random_number : \n",
    "            print(\"Great. You are collect! try : {}\". format(game_count))\n",
    "            break\n",
    "        \n",
    "        game_count = game_count + 1\n",
    "        \n",
    "    except :\n",
    "        print(\"Error\")"
   ]
  },
  {
   "cell_type": "markdown",
   "id": "9ebb7df6",
   "metadata": {},
   "source": []
  },
  {
   "cell_type": "code",
   "execution_count": null,
   "id": "3ee630b9",
   "metadata": {},
   "outputs": [],
   "source": []
  }
 ],
 "metadata": {
  "kernelspec": {
   "display_name": "Python 3 (ipykernel)",
   "language": "python",
   "name": "python3"
  },
  "language_info": {
   "codemirror_mode": {
    "name": "ipython",
    "version": 3
   },
   "file_extension": ".py",
   "mimetype": "text/x-python",
   "name": "python",
   "nbconvert_exporter": "python",
   "pygments_lexer": "ipython3",
   "version": "3.9.13"
  }
 },
 "nbformat": 4,
 "nbformat_minor": 5
}
